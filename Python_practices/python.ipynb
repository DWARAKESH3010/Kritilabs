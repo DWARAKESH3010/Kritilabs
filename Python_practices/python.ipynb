{
 "cells": [
  {
   "cell_type": "markdown",
   "id": "d90edd8f",
   "metadata": {},
   "source": [
    "1.  Input: \"the sky is blue\"\n",
    "Output: \"blue is sky the\""
   ]
  },
  {
   "cell_type": "code",
   "execution_count": null,
   "id": "f02431fc",
   "metadata": {},
   "outputs": [
    {
     "data": {
      "text/plain": [
       "'blue is sky the'"
      ]
     },
     "execution_count": 19,
     "metadata": {},
     "output_type": "execute_result"
    }
   ],
   "source": [
    "# reverse string\n",
    "v = []\n",
    "a = \"th sky is blue\"\n",
    "a = a.split(\" \")\n",
    "for i in range(len(a)-1,-1,-1):\n",
    "    v.append(a[i]\n",
    "' '.join(v)"
   ]
  },
  {
   "cell_type": "markdown",
   "id": "3bb0fc25",
   "metadata": {},
   "source": [
    "2.   Input: \"Python makes life easier\"\n",
    "Output: \"easier\""
   ]
  },
  {
   "cell_type": "code",
   "execution_count": 1,
   "id": "6489b065",
   "metadata": {},
   "outputs": [
    {
     "data": {
      "text/plain": [
       "'easier'"
      ]
     },
     "execution_count": 1,
     "metadata": {},
     "output_type": "execute_result"
    }
   ],
   "source": [
    "# longest word\n",
    "a = \"Python makes life easier\"\n",
    "a = a.split(\" \")\n",
    "count = None\n",
    "for i in a:\n",
    "    for j in a:\n",
    "        if i != j:\n",
    "            if len(i) > len(j):\n",
    "                count = i\n",
    "            elif len(j) > len(i):\n",
    "                count = i\n",
    "count"
   ]
  },
  {
   "cell_type": "code",
   "execution_count": 2,
   "id": "8f54db17",
   "metadata": {},
   "outputs": [
    {
     "data": {
      "text/plain": [
       "['Python', 'makes', 'life', 'easier']"
      ]
     },
     "execution_count": 2,
     "metadata": {},
     "output_type": "execute_result"
    }
   ],
   "source": [
    "li =[]\n",
    "for i in range(len(a)):\n",
    "    li.append(a[i])\n",
    "li"
   ]
  },
  {
   "cell_type": "markdown",
   "id": "1031adff",
   "metadata": {},
   "source": [
    "3. Input: arr = [1, 5, 7, -1], k = 6\n",
    "Output: 2  # (1,5) and (7,-1)"
   ]
  },
  {
   "cell_type": "code",
   "execution_count": 59,
   "id": "8b3d8edb",
   "metadata": {},
   "outputs": [
    {
     "name": "stdout",
     "output_type": "stream",
     "text": [
      "2\n"
     ]
    },
    {
     "data": {
      "text/plain": [
       "[(1, 5), (7, -1)]"
      ]
     },
     "execution_count": 59,
     "metadata": {},
     "output_type": "execute_result"
    }
   ],
   "source": [
    "arr = [1, 5, 7, -1]\n",
    "k = 6\n",
    "li = []\n",
    "for i in (arr):\n",
    "    for j in (arr):\n",
    "        if (i + j) == k and (j,i) not in li:\n",
    "            li.append((i,j))\n",
    "\n",
    "print(len(li))   \n",
    "li       "
   ]
  },
  {
   "cell_type": "markdown",
   "id": "25fe7ff3",
   "metadata": {},
   "source": [
    "4. Input: \"A man, a plan, a canal: Panama\"\n",
    "Output: True"
   ]
  },
  {
   "cell_type": "code",
   "execution_count": 75,
   "id": "c3b9b35d",
   "metadata": {},
   "outputs": [
    {
     "data": {
      "text/plain": [
       "True"
      ]
     },
     "execution_count": 75,
     "metadata": {},
     "output_type": "execute_result"
    }
   ],
   "source": [
    "a = \"a man, a plan, a canal: panama\"\n",
    "li = [\",\",\" \",\":\"]\n",
    "li1 = []\n",
    "for i in a:\n",
    "    if i in li:\n",
    "        continue\n",
    "    else:\n",
    "        li1.append(i)\n",
    "\n",
    "li2 = li1[::-1]\n",
    "li2 = ''.join(li2)\n",
    "li1 = ''.join(li1)\n",
    "def fun(li,li2):\n",
    "    for i,j in zip(li1,li2):\n",
    "        if i != j:\n",
    "            return False\n",
    "            break\n",
    "        else:\n",
    "            return True\n",
    "\n",
    "fun(li1,li2)\n",
    "\n"
   ]
  },
  {
   "cell_type": "code",
   "execution_count": 1,
   "id": "f7d6497d",
   "metadata": {},
   "outputs": [
    {
     "name": "stdout",
     "output_type": "stream",
     "text": [
      "✅ Virtual environment is active\n"
     ]
    }
   ],
   "source": [
    "import sys\n",
    "\n",
    "if hasattr(sys, 'real_prefix') or (hasattr(sys, 'base_prefix') and sys.base_prefix != sys.prefix):\n",
    "    print(\"✅ Virtual environment is active\")\n",
    "else:\n",
    "    print(\"❌ Not inside a virtual environment\")\n"
   ]
  },
  {
   "cell_type": "markdown",
   "id": "7126263e",
   "metadata": {},
   "source": [
    "5 . Input: [\"bat\", \"tab\", \"tap\", \"pat\", \"cat\"]\n",
    "Output: [['bat', 'tab'], ['tap', 'pat'], ['cat']]"
   ]
  },
  {
   "cell_type": "code",
   "execution_count": 36,
   "id": "c36432c0",
   "metadata": {},
   "outputs": [
    {
     "data": {
      "text/plain": [
       "[[], [], [], ('bat', 'tab'), ('tap', 'pat')]"
      ]
     },
     "execution_count": 36,
     "metadata": {},
     "output_type": "execute_result"
    }
   ],
   "source": [
    "a = [\"bat\", \"tab\", \"tap\", \"pat\", \"cat\"]\n",
    "b = [[]] * 3\n",
    "c = 0\n",
    "for i in a:\n",
    "    for j in a:\n",
    "        if i != j and i == j[::-1] and (j,i) not in b:\n",
    "            b.append((i,j))\n",
    "            \n",
    "            \n",
    "b       \n"
   ]
  },
  {
   "cell_type": "markdown",
   "id": "d37d965a",
   "metadata": {},
   "source": [
    "6 Input: [1, 2, 4, 6, 3, 7, 8]\n",
    "Output: 5"
   ]
  },
  {
   "cell_type": "code",
   "execution_count": 39,
   "id": "56488e52",
   "metadata": {},
   "outputs": [
    {
     "name": "stdout",
     "output_type": "stream",
     "text": [
      "5\n"
     ]
    }
   ],
   "source": [
    "a = [1, 2, 4, 6, 3, 7, 8]\n",
    "b = range(1,max(a))\n",
    "for i in b:\n",
    "    if i not in a:\n",
    "        print(i)\n",
    "    else:\n",
    "        pass"
   ]
  },
  {
   "cell_type": "markdown",
   "id": "41cc70b6",
   "metadata": {},
   "source": [
    "7. Input: \"{[()]}\"\n",
    "Output: True\n",
    "\n",
    "Input: \"{[(])}\"\n",
    "Output: False"
   ]
  },
  {
   "cell_type": "code",
   "execution_count": null,
   "id": "f5d5276e",
   "metadata": {},
   "outputs": [
    {
     "name": "stdout",
     "output_type": "stream",
     "text": [
      "} }\n",
      "] ]\n",
      ") )\n"
     ]
    },
    {
     "ename": "KeyError",
     "evalue": "')'",
     "output_type": "error",
     "traceback": [
      "\u001b[31m---------------------------------------------------------------------------\u001b[39m",
      "\u001b[31mKeyError\u001b[39m                                  Traceback (most recent call last)",
      "\u001b[36mCell\u001b[39m\u001b[36m \u001b[39m\u001b[32mIn[53]\u001b[39m\u001b[32m, line 10\u001b[39m\n\u001b[32m      6\u001b[39m dic = {\n\u001b[32m      7\u001b[39m     \u001b[33m\"\u001b[39m\u001b[33m{\u001b[39m\u001b[33m\"\u001b[39m : \u001b[33m\"\u001b[39m\u001b[33m}\u001b[39m\u001b[33m\"\u001b[39m,\u001b[33m\"\u001b[39m\u001b[33m[\u001b[39m\u001b[33m\"\u001b[39m:\u001b[33m\"\u001b[39m\u001b[33m]\u001b[39m\u001b[33m\"\u001b[39m,\u001b[33m\"\u001b[39m\u001b[33m(\u001b[39m\u001b[33m\"\u001b[39m:\u001b[33m\"\u001b[39m\u001b[33m)\u001b[39m\u001b[33m\"\u001b[39m\n\u001b[32m      8\u001b[39m }\n\u001b[32m      9\u001b[39m \u001b[38;5;28;01mwhile\u001b[39;00m \u001b[38;5;28;01mTrue\u001b[39;00m:\n\u001b[32m---> \u001b[39m\u001b[32m10\u001b[39m     \u001b[38;5;28mprint\u001b[39m((\u001b[43mdic\u001b[49m\u001b[43m[\u001b[49m\u001b[43ma\u001b[49m\u001b[43m[\u001b[49m\u001b[43mst\u001b[49m\u001b[43m]\u001b[49m\u001b[43m]\u001b[49m),(a[end]))\n\u001b[32m     11\u001b[39m     \u001b[38;5;28;01mif\u001b[39;00m st == \u001b[32m5\u001b[39m:\n\u001b[32m     12\u001b[39m         \u001b[38;5;28;01mbreak\u001b[39;00m\n",
      "\u001b[31mKeyError\u001b[39m: ')'"
     ]
    }
   ],
   "source": [
    "a =  \"{[()]}\"\n",
    "b =  \"{[(])}\"\n",
    "a = list(a)\n",
    "st = 0\n",
    "end = -1\n",
    "dic = {\n",
    "    \"{\" : \"}\",\"[\":\"]\",\"(\":\")\"\n",
    "}\n",
    "while True:\n",
    "    print((dic[a[st]]) == (a[end]))\n",
    "    if st == 5:\n",
    "        break\n",
    "    st = st + 1\n",
    "    end = end -1"
   ]
  },
  {
   "cell_type": "markdown",
   "id": "6dcdeda3",
   "metadata": {},
   "source": [
    "Input: \"aabbcddeff\"\n",
    "Output: \"c\"\n"
   ]
  },
  {
   "cell_type": "code",
   "execution_count": null,
   "id": "fae6a984",
   "metadata": {},
   "outputs": [
    {
     "data": {
      "text/plain": [
       "['c', 'e']"
      ]
     },
     "execution_count": 72,
     "metadata": {},
     "output_type": "execute_result"
    }
   ],
   "source": [
    "a = \"abbcddeffa\"\n",
    "a = list(a)\n",
    "li = []\n",
    "for i in range(len(a)):\n",
    "    for j in range(len(a)):\n",
    "        if i != j and a[i] == a[j]:\n",
    "            li.append(a[j])\n",
    "\n",
    "\n",
    "for i in li:\n",
    "    if i in a:\n",
    "        a.remove(i)\n",
    "\n",
    "a\n"
   ]
  },
  {
   "cell_type": "markdown",
   "id": "e12f694e",
   "metadata": {},
   "source": [
    "8. Input: \"hello world\"  \n",
    "Output: Vowels = 3, Consonants = 7"
   ]
  },
  {
   "cell_type": "code",
   "execution_count": 4,
   "id": "1e0f460c",
   "metadata": {},
   "outputs": [
    {
     "name": "stdout",
     "output_type": "stream",
     "text": [
      "Vowels:  3\n",
      "con:  7\n"
     ]
    }
   ],
   "source": [
    "a = \"hello world\"\n",
    "a = list(a)\n",
    "b = [\"a\",\"e\",\"i\",\"o\",\"u\"]\n",
    "vowel = 0\n",
    "con = 0\n",
    "for i in a:\n",
    "    if i in b:\n",
    "        vowel = vowel + 1\n",
    "    else:\n",
    "        con = con + 1\n",
    "\n",
    "print(\"Vowels: \",vowel)\n",
    "print(\"con: \",con - 1)\n"
   ]
  },
  {
   "cell_type": "markdown",
   "id": "bf29741e",
   "metadata": {},
   "source": [
    "9. Input: [1, [2, [3, 4], 5], 6]  \n",
    "Output: [1, 2, 3, 4, 5, 6]"
   ]
  },
  {
   "cell_type": "code",
   "execution_count": 26,
   "id": "76e4498d",
   "metadata": {},
   "outputs": [
    {
     "name": "stdout",
     "output_type": "stream",
     "text": [
      "[1, 2, 3, 4, 5, 6]\n"
     ]
    }
   ],
   "source": [
    "a = [1, [2, [3, 4], 5], 6]\n",
    "li = []\n",
    "\n",
    "def res(a):\n",
    "    for i in a:\n",
    "        if isinstance(i, list):\n",
    "            res(i)         \n",
    "        else:\n",
    "            li.append(i)\n",
    "\n",
    "res(a)  \n",
    "print(li)  \n"
   ]
  },
  {
   "cell_type": "markdown",
   "id": "7f2f711e",
   "metadata": {},
   "source": [
    "10. Input: \"banana\"  \n",
    "Output: {'b': 1, 'a': 3, 'n': 2}"
   ]
  },
  {
   "cell_type": "code",
   "execution_count": null,
   "id": "be672b1f",
   "metadata": {},
   "outputs": [
    {
     "name": "stdout",
     "output_type": "stream",
     "text": [
      "1\n",
      "3\n",
      "2\n",
      "3\n",
      "2\n",
      "3\n"
     ]
    },
    {
     "data": {
      "text/plain": [
       "3"
      ]
     },
     "execution_count": 36,
     "metadata": {},
     "output_type": "execute_result"
    }
   ],
   "source": [
    "a =  \"banana\"  \n",
    "val = {}\n",
    "for i in a:\n",
    "    if\n",
    "    b = a.count(i)\n",
    "    print(b)\n"
   ]
  },
  {
   "cell_type": "markdown",
   "id": "15e5aae4",
   "metadata": {},
   "source": [
    "EG CODE"
   ]
  },
  {
   "cell_type": "code",
   "execution_count": 4,
   "id": "0543ec6e",
   "metadata": {},
   "outputs": [
    {
     "data": {
      "text/plain": [
       "[1, 2, 6, 5, 4, 3]"
      ]
     },
     "execution_count": 4,
     "metadata": {},
     "output_type": "execute_result"
    }
   ],
   "source": [
    "ar = [1, 2, 3, 4, 5, 6]\n",
    "li = []\n",
    "\n",
    "for i in ar:\n",
    "    li.insert(2,i)\n",
    "li"
   ]
  },
  {
   "cell_type": "markdown",
   "id": "186e29d3",
   "metadata": {},
   "source": [
    "11. Input: [1,2,3,4,5], k=2 → Output: [4,5,1,2,3]"
   ]
  },
  {
   "cell_type": "code",
   "execution_count": null,
   "id": "1e5a3dec",
   "metadata": {},
   "outputs": [
    {
     "data": {
      "text/plain": [
       "[4, 5, 1, 2, 3]"
      ]
     },
     "execution_count": 23,
     "metadata": {},
     "output_type": "execute_result"
    }
   ],
   "source": [
    "a = [1,2,3,4,5]\n",
    "k=2 \n",
    "b= a[-2:]+a[:-2]\n",
    "b"
   ]
  },
  {
   "cell_type": "markdown",
   "id": "1c96d766",
   "metadata": {},
   "source": [
    "12. a = [1,3,-1,-3,5,3,6,7] k = 3 output = 3,3,5,5,6,7"
   ]
  },
  {
   "cell_type": "code",
   "execution_count": 43,
   "id": "5b5c1c4f",
   "metadata": {},
   "outputs": [
    {
     "name": "stdout",
     "output_type": "stream",
     "text": [
      "3\n",
      "3\n",
      "5\n",
      "5\n",
      "6\n",
      "7\n"
     ]
    }
   ],
   "source": [
    "a = [1,3,-1,-3,5,3,6,7]\n",
    "a = [abs(i) if i < 0 else i for i in a]\n",
    "k = 3\n",
    "start = 0\n",
    "end = start + k\n",
    "while True:\n",
    "    if end == len(a):\n",
    "        print(max(a[start:end]))\n",
    "        break    \n",
    "    print(max(a[start:end]))\n",
    "    start = start + 1\n",
    "    end = end + 1"
   ]
  },
  {
   "cell_type": "markdown",
   "id": "02ef3afb",
   "metadata": {},
   "source": [
    "13. Input: nums = [2, 7, 11, 15], target = 9\n",
    "Output: [0, 1]"
   ]
  },
  {
   "cell_type": "code",
   "execution_count": 60,
   "id": "a99672d7",
   "metadata": {},
   "outputs": [
    {
     "data": {
      "text/plain": [
       "[(0, 1)]"
      ]
     },
     "execution_count": 60,
     "metadata": {},
     "output_type": "execute_result"
    }
   ],
   "source": [
    "num = [2,7,11,15]\n",
    "tar = 9\n",
    "val = []\n",
    "for i in range(len(num)):\n",
    "    for j in range(len(num)):\n",
    "        if i != j and (num[i] + num[j]) == tar and (j,i) not in val:\n",
    "            val.append((i,j))\n",
    "val"
   ]
  },
  {
   "cell_type": "code",
   "execution_count": 61,
   "id": "a1a2685d",
   "metadata": {},
   "outputs": [
    {
     "data": {
      "text/plain": [
       "[1, 2, 3, 4, 5, 6]"
      ]
     },
     "execution_count": 61,
     "metadata": {},
     "output_type": "execute_result"
    }
   ],
   "source": [
    "a = [1,2,3]\n",
    "b = [4,5,6]\n",
    "a+b"
   ]
  },
  {
   "cell_type": "code",
   "execution_count": 58,
   "id": "7b806999",
   "metadata": {},
   "outputs": [
    {
     "name": "stdout",
     "output_type": "stream",
     "text": [
      "{66: 100}\n",
      "66\n"
     ]
    }
   ],
   "source": [
    "a = [66, 66, 66, 66, 66, 66, 66, 66, 66, 66, 66, 66, 66, 66, 66, 66, 66, 66, 66, 66,\n",
    "     66, 66, 66, 66, 66, 66, 66, 66, 66, 66, 66, 66, 66, 66, 66, 66, 66, 66, 66, 66,\n",
    "     66, 66, 66, 66, 66, 66, 66, 66, 66, 66, 66, 66, 66, 66, 66, 66, 66, 66, 66, 66,\n",
    "     66, 66, 66, 66, 66, 66, 66, 66, 66, 66, 66, 66, 66, 66, 66, 66, 66, 66, 66, 66,\n",
    "     66, 66, 66, 66, 66, 66, 66, 66, 66, 66, 66, 66, 66, 66, 66, 66, 66, 66, 66, 66]\n",
    "\n",
    "b = {}\n",
    "for i in a:\n",
    "    if i not in b:\n",
    "        val = a.count(i)\n",
    "        b[i] = val \n",
    "print(b)    \n",
    "li = []\n",
    "\n",
    "if len(b) <= 1:\n",
    "    print(list(b)[0])\n",
    "else:\n",
    "    for i in b:\n",
    "        if i + 1 in b:\n",
    "            val = b[i] + b[i+1]\n",
    "            li.append(val)\n",
    "    print(max(li))\n",
    " \n",
    "\n",
    "    "
   ]
  },
  {
   "cell_type": "code",
   "execution_count": 45,
   "id": "7a845189",
   "metadata": {},
   "outputs": [
    {
     "data": {
      "text/plain": [
       "3"
      ]
     },
     "execution_count": 45,
     "metadata": {},
     "output_type": "execute_result"
    }
   ],
   "source": [
    "len(b.items())"
   ]
  },
  {
   "cell_type": "code",
   "execution_count": null,
   "id": "e0b3d316",
   "metadata": {},
   "outputs": [
    {
     "data": {
      "text/html": [
       "<div>\n",
       "<style scoped>\n",
       "    .dataframe tbody tr th:only-of-type {\n",
       "        vertical-align: middle;\n",
       "    }\n",
       "\n",
       "    .dataframe tbody tr th {\n",
       "        vertical-align: top;\n",
       "    }\n",
       "\n",
       "    .dataframe thead th {\n",
       "        text-align: right;\n",
       "    }\n",
       "</style>\n",
       "<table border=\"1\" class=\"dataframe\">\n",
       "  <thead>\n",
       "    <tr style=\"text-align: right;\">\n",
       "      <th></th>\n",
       "      <th>Name</th>\n",
       "      <th>Age</th>\n",
       "    </tr>\n",
       "  </thead>\n",
       "  <tbody>\n",
       "    <tr>\n",
       "      <th>a</th>\n",
       "      <td>Alice</td>\n",
       "      <td>25</td>\n",
       "    </tr>\n",
       "    <tr>\n",
       "      <th>b</th>\n",
       "      <td>Bob</td>\n",
       "      <td>30</td>\n",
       "    </tr>\n",
       "    <tr>\n",
       "      <th>c</th>\n",
       "      <td>Charlie</td>\n",
       "      <td>35</td>\n",
       "    </tr>\n",
       "  </tbody>\n",
       "</table>\n",
       "</div>"
      ],
      "text/plain": [
       "      Name  Age\n",
       "a    Alice   25\n",
       "b      Bob   30\n",
       "c  Charlie   35"
      ]
     },
     "execution_count": 14,
     "metadata": {},
     "output_type": "execute_result"
    }
   ],
   "source": [
    "import pandas as pd\n",
    "\n",
    "data = {'Name': ['Alice', 'Bob', 'Charlie'], 'Age': [25, 30, 35]}\n",
    "df = pd.DataFrame(data, index=['a', 'b', 'c'])\n",
    "\n",
    "df.loc[\"a\":\"c\"] "
   ]
  },
  {
   "cell_type": "code",
   "execution_count": 27,
   "id": "71047c8c",
   "metadata": {},
   "outputs": [
    {
     "data": {
      "text/html": [
       "<div>\n",
       "<style scoped>\n",
       "    .dataframe tbody tr th:only-of-type {\n",
       "        vertical-align: middle;\n",
       "    }\n",
       "\n",
       "    .dataframe tbody tr th {\n",
       "        vertical-align: top;\n",
       "    }\n",
       "\n",
       "    .dataframe thead th {\n",
       "        text-align: right;\n",
       "    }\n",
       "</style>\n",
       "<table border=\"1\" class=\"dataframe\">\n",
       "  <thead>\n",
       "    <tr style=\"text-align: right;\">\n",
       "      <th></th>\n",
       "      <th>Name</th>\n",
       "      <th>Age</th>\n",
       "    </tr>\n",
       "  </thead>\n",
       "  <tbody>\n",
       "    <tr>\n",
       "      <th>a</th>\n",
       "      <td>Alice</td>\n",
       "      <td>25</td>\n",
       "    </tr>\n",
       "  </tbody>\n",
       "</table>\n",
       "</div>"
      ],
      "text/plain": [
       "    Name  Age\n",
       "a  Alice   25"
      ]
     },
     "execution_count": 27,
     "metadata": {},
     "output_type": "execute_result"
    }
   ],
   "source": [
    "df.iloc[:1]"
   ]
  },
  {
   "cell_type": "code",
   "execution_count": 25,
   "id": "e588cd49",
   "metadata": {},
   "outputs": [
    {
     "data": {
      "text/html": [
       "<div>\n",
       "<style scoped>\n",
       "    .dataframe tbody tr th:only-of-type {\n",
       "        vertical-align: middle;\n",
       "    }\n",
       "\n",
       "    .dataframe tbody tr th {\n",
       "        vertical-align: top;\n",
       "    }\n",
       "\n",
       "    .dataframe thead th {\n",
       "        text-align: right;\n",
       "    }\n",
       "</style>\n",
       "<table border=\"1\" class=\"dataframe\">\n",
       "  <thead>\n",
       "    <tr style=\"text-align: right;\">\n",
       "      <th></th>\n",
       "      <th>Name</th>\n",
       "      <th>Age</th>\n",
       "    </tr>\n",
       "  </thead>\n",
       "  <tbody>\n",
       "    <tr>\n",
       "      <th>a</th>\n",
       "      <td>Alice</td>\n",
       "      <td>25</td>\n",
       "    </tr>\n",
       "    <tr>\n",
       "      <th>b</th>\n",
       "      <td>Bob</td>\n",
       "      <td>30</td>\n",
       "    </tr>\n",
       "  </tbody>\n",
       "</table>\n",
       "</div>"
      ],
      "text/plain": [
       "    Name  Age\n",
       "a  Alice   25\n",
       "b    Bob   30"
      ]
     },
     "execution_count": 25,
     "metadata": {},
     "output_type": "execute_result"
    }
   ],
   "source": [
    "df.loc[\"a\":\"b\"]"
   ]
  },
  {
   "cell_type": "code",
   "execution_count": 11,
   "id": "498897e6",
   "metadata": {},
   "outputs": [
    {
     "data": {
      "text/plain": [
       "2"
      ]
     },
     "execution_count": 11,
     "metadata": {},
     "output_type": "execute_result"
    }
   ],
   "source": [
    "n = 1\n",
    "val = 1\n",
    "if n == 0:\n",
    "    print(1) \n",
    "else:\n",
    "    for i in range(1,n+1):\n",
    "    \n",
    "        if i % 2 == 0:\n",
    "            val = val + 1\n",
    "        elif i % 2 != 0:\n",
    "            val = val * 2\n",
    "val\n"
   ]
  },
  {
   "cell_type": "code",
   "execution_count": 27,
   "id": "de430080",
   "metadata": {},
   "outputs": [
    {
     "name": "stdout",
     "output_type": "stream",
     "text": [
      "NO 22\n"
     ]
    }
   ],
   "source": [
    "a = 20\n",
    "b = [97, -55, 48, -22, 99, -46, 40, 11, 5, -61, 78, -20, 44, 22, -8, 82, 24, -62, 0, 52,\n",
    "     -79, 68, -73, -81, 33, 60, -99, -99, 59, -13, 90, -26, 84, 90, 76, 36, -45, 79, 87, 48,\n",
    "     59, -36, 42, -6, -13, 21, -19, -21, 39, -40]\n",
    "\n",
    "val = 0\n",
    "\n",
    "for i in b:\n",
    "    if i <= 0:\n",
    "        val = val + 1\n",
    "\n",
    "if val >= a:\n",
    "    print(\"NO\",val)\n",
    "else:\n",
    "    print(\"YES\",val)"
   ]
  },
  {
   "cell_type": "code",
   "execution_count": 24,
   "id": "1979b2ca",
   "metadata": {},
   "outputs": [
    {
     "name": "stdout",
     "output_type": "stream",
     "text": [
      "NO\n"
     ]
    },
    {
     "data": {
      "text/plain": [
       "22"
      ]
     },
     "execution_count": 24,
     "metadata": {},
     "output_type": "execute_result"
    }
   ],
   "source": [
    "k = 20\n",
    "a = [97, -55, 48, -22, 99, -46, 40, 11, 5, -61, 78, -20, 44, 22, -8, 82, 24, -62, 0, 52, -79, 68, -73, -81, 33, 60, -99, -99, 59, -13, 90, -26, 84, 90, 76, 36, -45, 79, 87, 48, 59, -36, 42, -6, -13, 21, -19, -21, 39, -40]\n",
    "\n",
    "\n",
    "on_time = sum(1 for time in a if time <= 0)\n",
    "print(\"NO\" if on_time >= k else \"YES\")\n",
    "on_time\n"
   ]
  },
  {
   "cell_type": "code",
   "execution_count": 1,
   "id": "1b0d1700",
   "metadata": {},
   "outputs": [
    {
     "name": "stdout",
     "output_type": "stream",
     "text": [
      "1  :  9\n",
      "2  :  19\n",
      "3  :  29\n",
      "4  :  39\n",
      "5  :  49\n",
      "6  :  59\n",
      "7  :  69\n",
      "8  :  79\n",
      "9  :  89\n",
      "10  :  99\n"
     ]
    }
   ],
   "source": [
    "va = [1,2,3,4,5,6,7,8,9,10]\n",
    "for i in va:\n",
    "    val = ((i*5)*2) - 1\n",
    "    print(i,\" : \",val)"
   ]
  },
  {
   "cell_type": "code",
   "execution_count": 35,
   "id": "ba00c908",
   "metadata": {},
   "outputs": [
    {
     "name": "stdout",
     "output_type": "stream",
     "text": [
      "101.0\n"
     ]
    },
    {
     "ename": "ZeroDivisionError",
     "evalue": "division by zero",
     "output_type": "error",
     "traceback": [
      "\u001b[31m---------------------------------------------------------------------------\u001b[39m",
      "\u001b[31mZeroDivisionError\u001b[39m                         Traceback (most recent call last)",
      "\u001b[36mCell\u001b[39m\u001b[36m \u001b[39m\u001b[32mIn[35]\u001b[39m\u001b[32m, line 17\u001b[39m\n\u001b[32m     15\u001b[39m count = \u001b[32m0\u001b[39m\n\u001b[32m     16\u001b[39m \u001b[38;5;28;01mfor\u001b[39;00m i \u001b[38;5;129;01min\u001b[39;00m \u001b[38;5;28mstr\u001b[39m(n[\u001b[32m0\u001b[39m]):\n\u001b[32m---> \u001b[39m\u001b[32m17\u001b[39m     \u001b[38;5;28;01mif\u001b[39;00m (\u001b[43mn\u001b[49m\u001b[43m[\u001b[49m\u001b[32;43m0\u001b[39;49m\u001b[43m]\u001b[49m\u001b[43m/\u001b[49m\u001b[38;5;28;43mint\u001b[39;49m\u001b[43m(\u001b[49m\u001b[43mi\u001b[49m\u001b[43m)\u001b[49m):\n\u001b[32m     18\u001b[39m         \u001b[38;5;28mprint\u001b[39m(n[\u001b[32m0\u001b[39m]/\u001b[38;5;28mint\u001b[39m(i) )\n\u001b[32m     19\u001b[39m         count = count + \u001b[32m1\u001b[39m\n",
      "\u001b[31mZeroDivisionError\u001b[39m: division by zero"
     ]
    }
   ],
   "source": [
    "n = [\n",
    "123456789,\n",
    "114108089,\n",
    "110110015,\n",
    "121,\n",
    "33,\n",
    "44,\n",
    "55,\n",
    "66,\n",
    "77,\n",
    "88,\n",
    "106108048]\n",
    "\n",
    "n[0] = 101\n",
    "count = 0\n",
    "for i in str(n[0]):\n",
    "    if (n[0]/int(i)):\n",
    "        print(n[0]/int(i) )\n",
    "        count = count + 1\n",
    "        \n",
    "print(j, \" : \",count)"
   ]
  },
  {
   "cell_type": "code",
   "execution_count": 30,
   "id": "71a768c0",
   "metadata": {},
   "outputs": [
    {
     "data": {
      "text/plain": [
       "False"
      ]
     },
     "execution_count": 30,
     "metadata": {},
     "output_type": "execute_result"
    }
   ],
   "source": [
    "17636684.14285714.is_integer()"
   ]
  },
  {
   "cell_type": "code",
   "execution_count": 16,
   "id": "0eb00910",
   "metadata": {},
   "outputs": [
    {
     "name": "stdout",
     "output_type": "stream",
     "text": [
      "<class 'float'>\n"
     ]
    }
   ],
   "source": [
    "txt = 123.4\n",
    "\n",
    "x = type(txt)\n",
    "\n",
    "print(x)"
   ]
  },
  {
   "cell_type": "code",
   "execution_count": 41,
   "id": "e30f8e1e",
   "metadata": {},
   "outputs": [
    {
     "data": {
      "text/plain": [
       "120"
      ]
     },
     "execution_count": 41,
     "metadata": {},
     "output_type": "execute_result"
    }
   ],
   "source": [
    "v = 5\n",
    "def fact(n):\n",
    "    if n == 1:\n",
    "        return 1\n",
    "    else:\n",
    "        return n* fact(n-1)\n",
    "    \n",
    "fact(5)"
   ]
  },
  {
   "cell_type": "code",
   "execution_count": 44,
   "id": "c5ebf83d",
   "metadata": {},
   "outputs": [
    {
     "name": "stdout",
     "output_type": "stream",
     "text": [
      "1\n",
      "120\n"
     ]
    },
    {
     "data": {
      "text/plain": [
       "120"
      ]
     },
     "execution_count": 44,
     "metadata": {},
     "output_type": "execute_result"
    }
   ],
   "source": [
    "def fact(n):\n",
    "    if n == 0 or n == 1:\n",
    "        print(1)  # print result\n",
    "        return 1\n",
    "    else:\n",
    "        result = n * fact(n - 1)\n",
    "        if n == 5:  # or any top-level call\n",
    "            print(result)\n",
    "        return result\n",
    "\n",
    "fact(5)\n"
   ]
  },
  {
   "cell_type": "code",
   "execution_count": 46,
   "id": "aab10fad",
   "metadata": {},
   "outputs": [
    {
     "name": "stdout",
     "output_type": "stream",
     "text": [
      "1\n",
      "2\n",
      "3\n",
      "4\n"
     ]
    }
   ],
   "source": [
    "n = 5\n",
    "for i in range(1,n):\n",
    "    print(i)"
   ]
  },
  {
   "cell_type": "code",
   "execution_count": null,
   "id": "629691d0",
   "metadata": {},
   "outputs": [
    {
     "name": "stdout",
     "output_type": "stream",
     "text": [
      "a3b2c3\n"
     ]
    }
   ],
   "source": [
    "Input = \"aaabbccc\"\n",
    "li = []\n",
    "a = []\n",
    "for i in Input:\n",
    "    if i not in a:\n",
    "        a.append(i)\n",
    "for i in a:   \n",
    "    val = Input.count(i)   \n",
    "    li.append(i)\n",
    "    li.append(str(val))\n",
    "print(\"\".join(li))\n"
   ]
  },
  {
   "cell_type": "code",
   "execution_count": null,
   "id": "0c149247",
   "metadata": {},
   "outputs": [
    {
     "name": "stdout",
     "output_type": "stream",
     "text": [
      "a3b2c3\n"
     ]
    },
    {
     "data": {
      "text/plain": [
       "([3, 2, 3], ['a', 'b', 'c'])"
      ]
     },
     "execution_count": 8,
     "metadata": {},
     "output_type": "execute_result"
    }
   ],
   "source": [
    "Input = \"aaabbccc\"\n",
    "\n",
    "no1 = 0\n",
    "li2 = []\n",
    "li3 = []\n",
    "\n",
    "for i in Input:\n",
    "    if i not in a:\n",
    "        a.append(i)\n",
    "\n",
    "for i in a:\n",
    "    for j in Input:\n",
    "        if i == j:\n",
    "            no1 = no1 + 1\n",
    "    li2.append(no1)\n",
    "    no1 = 0\n",
    "\n",
    "for i,j in zip(a,li2):\n",
    "    li3.append(i)\n",
    "    li3.append(str(j))\n",
    "print(\"\".join(li3))\n",
    "\n",
    "li2,a"
   ]
  },
  {
   "cell_type": "code",
   "execution_count": null,
   "id": "b71ecad9",
   "metadata": {},
   "outputs": [
    {
     "data": {
      "text/plain": [
       "30"
      ]
     },
     "execution_count": 15,
     "metadata": {},
     "output_type": "execute_result"
    }
   ],
   "source": [
    "a = [[1,2,3],\n",
    "[4,5,6],\n",
    "[7,8,9]]\n",
    "\n",
    "count = 0\n",
    "add = 0\n",
    "\n",
    "for i,j in zip(a,a[::-1]):\n",
    "    add = i[count] + add\n",
    "    add = j[count] + add\n",
    "    \n",
    "    count = count + 1 \n",
    "\n",
    "add\n",
    "\n"
   ]
  },
  {
   "cell_type": "code",
   "execution_count": 11,
   "id": "c3482126",
   "metadata": {},
   "outputs": [
    {
     "data": {
      "text/plain": [
       "[[7, 8, 9], [4, 5, 6], [1, 2, 3]]"
      ]
     },
     "execution_count": 11,
     "metadata": {},
     "output_type": "execute_result"
    }
   ],
   "source": [
    "a[::-1]"
   ]
  },
  {
   "cell_type": "code",
   "execution_count": null,
   "id": "aa21127d",
   "metadata": {},
   "outputs": [
    {
     "name": "stdout",
     "output_type": "stream",
     "text": [
      "[1, 2, 3, 4, 5]\n"
     ]
    }
   ],
   "source": [
    "# selection sort\n",
    "arr = [4,3,1,5,2]\n",
    "\n",
    "for i in range(len(arr)-1):\n",
    "    pos = i\n",
    "    for j in range(pos + 1, len(arr)):\n",
    "        if arr[j] < arr[pos]: \n",
    "            pos = j\n",
    "    arr[pos],arr[i] = arr[i],arr[pos]   \n",
    "print(arr)"
   ]
  },
  {
   "cell_type": "code",
   "execution_count": 13,
   "id": "f2cdc3a9",
   "metadata": {},
   "outputs": [
    {
     "data": {
      "text/plain": [
       "7"
      ]
     },
     "execution_count": 13,
     "metadata": {},
     "output_type": "execute_result"
    }
   ],
   "source": [
    "arr = [7, 10, 4, 3, 20, 15]\n",
    "k = 3\n",
    "count = 0\n",
    "for i in range(len(arr)):\n",
    "    min = i\n",
    "    for j in range(min+1, len(arr)):\n",
    "        if arr[min] > arr[j]:\n",
    "            min = j\n",
    "        arr[min], arr[i] = arr[i], arr[min]\n",
    "arr[k-1]"
   ]
  },
  {
   "cell_type": "code",
   "execution_count": 23,
   "id": "abcec237",
   "metadata": {},
   "outputs": [
    {
     "name": "stdout",
     "output_type": "stream",
     "text": [
      "2 0\n",
      "4 1\n",
      "4 2\n",
      "3 3\n",
      "4 4\n"
     ]
    },
    {
     "data": {
      "text/plain": [
       "[1, 2, 3, 4, 5]"
      ]
     },
     "execution_count": 23,
     "metadata": {},
     "output_type": "execute_result"
    }
   ],
   "source": [
    "Input =  [1, 5, 2, 4, 3]\n",
    "Output = 3\n",
    "count = 0\n",
    "for i in range(len(Input)-1):\n",
    "    min = i\n",
    "    for j in range(min+1, len(Input)):\n",
    "        if Input[min] > Input[j] :\n",
    "            min = j\n",
    "            print(Input[min], count)\n",
    "            count = count + 1\n",
    "        Input[min], Input[i] = Input[i], Input[min]\n",
    "        \n",
    "Input\n"
   ]
  },
  {
   "cell_type": "code",
   "execution_count": 31,
   "id": "0cf8f8f1",
   "metadata": {},
   "outputs": [
    {
     "name": "stdout",
     "output_type": "stream",
     "text": [
      "4 5\n"
     ]
    }
   ],
   "source": [
    "arr = [1, 2, 3, 4, 5]\n",
    "k = 9\n",
    "s = 0\n",
    "l = len(arr)-1\n",
    "while s < l:\n",
    "    act = arr[s] + arr[l]\n",
    "    if act == k:\n",
    "        \n",
    "        print(arr[s],arr[l])\n",
    "        break\n",
    "    elif(act < k):\n",
    "        s = s + 1\n",
    "    elif(act > k):\n",
    "        l = l - 1\n"
   ]
  },
  {
   "cell_type": "code",
   "execution_count": 34,
   "id": "e3ddd7ba",
   "metadata": {},
   "outputs": [
    {
     "name": "stdout",
     "output_type": "stream",
     "text": [
      "4 5\n",
      "5 4\n"
     ]
    }
   ],
   "source": [
    "arr = [4, 1, 5, 2, 3]\n",
    "k = 9\n",
    "for i in arr:\n",
    "    if (k -i) in arr:\n",
    "        print(i,k-i)"
   ]
  },
  {
   "cell_type": "code",
   "execution_count": 38,
   "id": "b0be6b70",
   "metadata": {},
   "outputs": [
    {
     "data": {
      "text/plain": [
       "4"
      ]
     },
     "execution_count": 38,
     "metadata": {},
     "output_type": "execute_result"
    }
   ],
   "source": [
    "arr = [4, 1, 5, 2, 3]\n",
    "arr.pop(0)"
   ]
  },
  {
   "cell_type": "code",
   "execution_count": 39,
   "id": "73dac7ed",
   "metadata": {},
   "outputs": [
    {
     "data": {
      "text/plain": [
       "140735488674328"
      ]
     },
     "execution_count": 39,
     "metadata": {},
     "output_type": "execute_result"
    }
   ],
   "source": [
    "arr = [4, 1, 5, 2, 3]\n",
    "id(arr[0])"
   ]
  },
  {
   "cell_type": "code",
   "execution_count": 55,
   "id": "e3a8cf17",
   "metadata": {},
   "outputs": [
    {
     "name": "stdout",
     "output_type": "stream",
     "text": [
      "5 4 3 2 1 1 2 3 4 \n",
      "  4 3 2 1 1 2 3 \n",
      "    3 2 1 1 2 \n",
      "      2 1 1 \n",
      "        1 \n"
     ]
    }
   ],
   "source": [
    "\"\"\"5 4 3 2 1 2 3 4 5  \n",
    "  4 3 2 1 2 3 4  \n",
    "    3 2 1 2 3  \n",
    "      2 1 2  \n",
    "        1\"\"\"\n",
    "\n",
    "n = 5\n",
    "for i in reversed(range(1,n+1)):\n",
    "    print(\"  \" * (n - i), end=\"\")\n",
    "    for j in range(-i,i):\n",
    "        if j == 0:\n",
    "            continue\n",
    "        print(abs(j), end = \" \")\n",
    "    print()\n",
    "    "
   ]
  },
  {
   "cell_type": "code",
   "execution_count": 54,
   "id": "12671043",
   "metadata": {},
   "outputs": [
    {
     "name": "stdout",
     "output_type": "stream",
     "text": [
      "5 4 3 2 1 1 2 3 4 \n",
      "  4 3 2 1 1 2 3 \n",
      "    3 2 1 1 2 \n",
      "      2 1 1 \n",
      "        1 \n"
     ]
    }
   ],
   "source": [
    "n = 5\n",
    "for i in reversed(range(1, n + 1)):\n",
    "    print(\"  \" * (n - i), end=\"\")  # leading spaces\n",
    "\n",
    "    # Decreasing from i to 1\n",
    "    for j in range(i, 0, -1):\n",
    "        print(j, end=\" \")\n",
    "\n",
    "    # Increasing from 1 to i-1 (to avoid double printing the same 1 again)\n",
    "    for j in range(1, i):\n",
    "        print(j, end=\" \")\n",
    "\n",
    "    print()\n"
   ]
  },
  {
   "cell_type": "code",
   "execution_count": 57,
   "id": "e8dbce69",
   "metadata": {},
   "outputs": [
    {
     "name": "stdout",
     "output_type": "stream",
     "text": [
      "3\n"
     ]
    }
   ],
   "source": [
    "Input = [1, 2, 4, 5, 6]  \n",
    "Output = 3\n",
    "for i in range(1,max(Input)):\n",
    "    if i not in Input:\n",
    "        print(i)"
   ]
  },
  {
   "cell_type": "code",
   "execution_count": 58,
   "id": "e1d20e13",
   "metadata": {},
   "outputs": [
    {
     "data": {
      "text/plain": [
       "'progamin'"
      ]
     },
     "execution_count": 58,
     "metadata": {},
     "output_type": "execute_result"
    }
   ],
   "source": [
    "Input = \"programming\"  \n",
    "Output = \"progamin\"\n",
    "li = []\n",
    "for i in Input:\n",
    "    if i not in li:\n",
    "        li.append(i)\n",
    "\n",
    "\"\".join(li)"
   ]
  },
  {
   "cell_type": "code",
   "execution_count": 79,
   "id": "e11bbfc9",
   "metadata": {},
   "outputs": [
    {
     "data": {
      "text/plain": [
       "33"
      ]
     },
     "execution_count": 79,
     "metadata": {},
     "output_type": "execute_result"
    }
   ],
   "source": [
    "i = 13\n",
    "j = 45 \n",
    "k = 3\n",
    "count = 0\n",
    "for day in range(i,j+1):\n",
    "    b = (day - int(str(day)[::-1]))/k\n",
    "    if b.is_integer():\n",
    "        count = count + 1\n",
    "count"
   ]
  },
  {
   "cell_type": "code",
   "execution_count": 5,
   "id": "4b4ba379",
   "metadata": {},
   "outputs": [
    {
     "name": "stdout",
     "output_type": "stream",
     "text": [
      "4 5\n",
      "4 3\n",
      "4 3\n",
      "6 5\n"
     ]
    }
   ],
   "source": [
    "a = [4, 6, 5, 3, 3, 1]\n",
    "li = []\n",
    "for i in range(len(a)):   \n",
    "    for j in range(i+1,len(a)):\n",
    "        if abs((a[i]) - a[j]) == 1:\n",
    "            print(a[i],a[j])"
   ]
  },
  {
   "cell_type": "code",
   "execution_count": null,
   "id": "d23cf438",
   "metadata": {},
   "outputs": [
    {
     "name": "stdout",
     "output_type": "stream",
     "text": [
      "Coding IS Awesome\n"
     ]
    }
   ],
   "source": [
    "sentence = \"aWESOME is cODING\"  \n",
    "val = sentence.swapcase()\n",
    "b = val.split(\" \")\n",
    "c = \n",
    "\n",
    "print(str(c)) "
   ]
  },
  {
   "cell_type": "code",
   "execution_count": 77,
   "id": "622aa9d3",
   "metadata": {},
   "outputs": [
    {
     "data": {
      "text/plain": [
       "['COol', 'DOg']"
      ]
     },
     "execution_count": 77,
     "metadata": {},
     "output_type": "execute_result"
    }
   ],
   "source": [
    "def val(word):\n",
    "    li = []\n",
    "    for char in word:\n",
    "        if char.islower():\n",
    "            li.append(char.upper())\n",
    "        elif char.isupper():\n",
    "            li.append(char.lower())\n",
    "        else:\n",
    "            li.append(char)  # in case of special characters\n",
    "    return ''.join(li)\n",
    "\n",
    "sentence = \"coOL doG\"\n",
    "temp = sentence.split(\" \")\n",
    "li2 = []\n",
    "for word in temp:\n",
    "    bro = val(word)\n",
    "    li2.append(bro)\n",
    "\n",
    "li2\n"
   ]
  },
  {
   "cell_type": "code",
   "execution_count": null,
   "id": "9afae652",
   "metadata": {},
   "outputs": [],
   "source": [
    "li.append(sentence[i])\n",
    "        continue\n",
    "    else:\n",
    "        val = sentence[i].swapcase()\n",
    "        li.append(val)"
   ]
  },
  {
   "cell_type": "code",
   "execution_count": 97,
   "id": "70a9c417",
   "metadata": {},
   "outputs": [
    {
     "name": "stdout",
     "output_type": "stream",
     "text": [
      "3\n",
      "1 d 4\n",
      "9\n",
      "4\n",
      "2 d 5\n",
      "12\n",
      "5\n",
      "3 d 5\n",
      "14\n"
     ]
    }
   ],
   "source": [
    "arr = [1,2,3,4,5,5]\n",
    "k = 3\n",
    "n = len(arr)\n",
    "window_sum = sum(arr[:k])  # arr[0] + arr[1] + arr[2]\n",
    "max_sum = window_sum\n",
    "for i in range(k, n):\n",
    "    print(i)\n",
    "    window_sum = window_sum - arr[i - k] + arr[i]\n",
    "    print(arr[i-k],\"d\", arr[i])\n",
    "    print(window_sum)\n",
    "    "
   ]
  },
  {
   "cell_type": "code",
   "execution_count": null,
   "id": "59cdf554",
   "metadata": {},
   "outputs": [],
   "source": [
    "max_sum = max(max_sum, window_sum)\n",
    "    print(max_sum)\n"
   ]
  },
  {
   "cell_type": "code",
   "execution_count": 7,
   "id": "c8bbd95f",
   "metadata": {},
   "outputs": [
    {
     "data": {
      "text/plain": [
       "2"
      ]
     },
     "execution_count": 7,
     "metadata": {},
     "output_type": "execute_result"
    }
   ],
   "source": [
    "n = 5 \n",
    "m = 2 \n",
    "s = 1\n",
    "last = (s - 1 + m - 1) % n +1\n",
    "last"
   ]
  },
  {
   "cell_type": "code",
   "execution_count": 17,
   "id": "cf86daf8",
   "metadata": {},
   "outputs": [
    {
     "data": {
      "text/plain": [
       "'hooz'"
      ]
     },
     "execution_count": 17,
     "metadata": {},
     "output_type": "execute_result"
    }
   ],
   "source": [
    "a = \"zoho\"\n",
    "li = []\n",
    "\"\"\"for i in a:\n",
    "    print(i)\n",
    "    for j in range(97,122):\n",
    "        if chr[j] == i:\n",
    "            li.append(j)\"\"\"\n",
    "\n",
    "for i in a:\n",
    "    val = ord(i)\n",
    "    li.append(val)\n",
    "a = sorted(li)\n",
    "li2 = []\n",
    "for i in a:\n",
    "    val = chr(i)\n",
    "    li2.append(val)\n",
    "\"\".join(li2)\n"
   ]
  },
  {
   "cell_type": "code",
   "execution_count": 25,
   "id": "435e78a0",
   "metadata": {},
   "outputs": [
    {
     "name": "stdout",
     "output_type": "stream",
     "text": [
      "1\n",
      "2\n",
      "3\n",
      "4\n",
      "5\n",
      "6\n"
     ]
    }
   ],
   "source": [
    "a = [1,2,3,4,5,6]\n",
    "b = 3\n",
    "c= 0\n",
    "win = 0\n",
    "for i in range(len(a)):\n",
    "    print(a[i])\n",
    "    "
   ]
  },
  {
   "cell_type": "code",
   "execution_count": 29,
   "id": "633b8216",
   "metadata": {},
   "outputs": [
    {
     "data": {
      "text/plain": [
       "(6, 9, 12, 15)"
      ]
     },
     "execution_count": 29,
     "metadata": {},
     "output_type": "execute_result"
    }
   ],
   "source": [
    "sum(a[0:3]),sum(a[1:4]),sum(a[2:5]),sum(a[3:6])"
   ]
  },
  {
   "cell_type": "code",
   "execution_count": 40,
   "id": "f9f75b83",
   "metadata": {},
   "outputs": [
    {
     "name": "stdout",
     "output_type": "stream",
     "text": [
      "6\n",
      "9\n",
      "12\n",
      "15\n"
     ]
    }
   ],
   "source": [
    "c = 3\n",
    "b = 0\n",
    "while c < len(a) + 1:\n",
    "    val = sum(a[b:c])\n",
    "    print(val)\n",
    "    c = c + 1\n",
    "    b = b + 1\n",
    "    "
   ]
  },
  {
   "cell_type": "code",
   "execution_count": 57,
   "id": "9aa80def",
   "metadata": {},
   "outputs": [
    {
     "name": "stdout",
     "output_type": "stream",
     "text": [
      "[(14, [5, 1, 8]), (11, [1, 8, 2]), (17, [8, 2, 7]), (13, [2, 7, 4])]\n"
     ]
    }
   ],
   "source": [
    "results = []\n",
    "def fun(a):\n",
    "    c = 3\n",
    "    b = 0\n",
    "    while c < len(a) + 1 :\n",
    "        window = a[b:c]\n",
    "        val = sum(window)\n",
    "        results.append((val, window))\n",
    "        c = c + 1\n",
    "        b = b + 1\n",
    "    return val\n",
    "\n",
    "a = [5, 1, 8, 2, 7, 4]\n",
    "fun(a)\n",
    "print(results)"
   ]
  },
  {
   "cell_type": "code",
   "execution_count": null,
   "id": "b247dd3d",
   "metadata": {},
   "outputs": [
    {
     "name": "stdout",
     "output_type": "stream",
     "text": [
      "14\n",
      "11\n",
      "17\n",
      "13\n"
     ]
    }
   ],
   "source": [
    "for i in results:\n",
    "    if i[0]"
   ]
  },
  {
   "cell_type": "code",
   "execution_count": 1,
   "id": "8b9de8fd",
   "metadata": {},
   "outputs": [
    {
     "name": "stdout",
     "output_type": "stream",
     "text": [
      "6\n",
      "4\n",
      "2\n",
      "1\n"
     ]
    }
   ],
   "source": [
    "arr = [5, 4, 4, 2, 2, 8]\n",
    "\n",
    "def cut_sticks(arr):\n",
    "    while len(arr) > 0:\n",
    "        print(len(arr))  # Print how many sticks are being cut this round\n",
    "        min_val = min(arr)\n",
    "        # Cut the sticks and remove the ones that become zero\n",
    "        arr = [i - min_val for i in arr if (i - min_val) > 0]\n",
    "\n",
    "cut_sticks(arr)\n"
   ]
  },
  {
   "cell_type": "code",
   "execution_count": null,
   "id": "994930e3",
   "metadata": {},
   "outputs": [],
   "source": [
    "p = 20\n",
    "d = 3\n",
    "m = 6\n",
    "s = 80\n",
    "li = []\n",
    "while True:\n",
    "    li.append(val)\n",
    "    val = p - d\n",
    "    if val <= m:\n",
    "        if sum(li) >= s:\n",
    "            break\n",
    "        else:\n",
    "            li.append(val)\n",
    "    p = val\n",
    "\n",
    "li"
   ]
  },
  {
   "cell_type": "code",
   "execution_count": 95,
   "id": "6fb43523",
   "metadata": {},
   "outputs": [
    {
     "data": {
      "text/plain": [
       "'he ad va ey a n i c'"
      ]
     },
     "execution_count": 95,
     "metadata": {},
     "output_type": "execute_result"
    }
   ],
   "source": [
    "import math \n",
    "a = \"haveaniceday\"\n",
    "b = a.replace(\" \",\"\")\n",
    "length = len(b)\n",
    "root = math.sqrt(length)\n",
    "floor = math.floor(root)\n",
    "ceil = math.ceil(root)\n",
    "li = [[] for _ in range(floor)] \n",
    "\n",
    "count = 0 \n",
    "val = 0\n",
    "for i in range(len(b)):\n",
    "    if i % 8 == 0 and i != 0 :\n",
    "        val = val + 1\n",
    "        \n",
    "    if val >= floor:\n",
    "        break\n",
    "    li[val].append(b[i])\n",
    "\n",
    "li2 = [\n",
    "    ''.join(row[col_index] for row in li if col_index < len(row))\n",
    "    for col_index in range(len(max(li, key=len)))\n",
    "]\n",
    "final = \" \".join(li2)\n",
    "final "
   ]
  },
  {
   "cell_type": "code",
   "execution_count": 94,
   "id": "abcc701b",
   "metadata": {},
   "outputs": [
    {
     "name": "stdout",
     "output_type": "stream",
     "text": [
      "hae and via ecy\n"
     ]
    }
   ],
   "source": [
    "s = \"haveaniceday\"\n",
    "\n",
    "b = s.replace(\" \", \"\")\n",
    "L = len(b)\n",
    "\n",
    "rows = math.floor(math.sqrt(L))\n",
    "cols = math.ceil(math.sqrt(L))\n",
    "if rows * cols < L:\n",
    "    rows = cols\n",
    "\n",
    "li = [b[i * cols : i * cols + cols] for i in range(rows)]\n",
    "\n",
    "    # Transpose column-wise\n",
    "li2 = [\n",
    "        ''.join(row[i] for row in li if i < len(row))\n",
    "        for i in range(cols)\n",
    "    ]\n",
    "\n",
    "print(' '.join(li2))"
   ]
  },
  {
   "cell_type": "code",
   "execution_count": 119,
   "id": "29b44f92",
   "metadata": {},
   "outputs": [
    {
     "name": "stdout",
     "output_type": "stream",
     "text": [
      "96\n"
     ]
    }
   ],
   "source": [
    "l1 = [1,2,3]\n",
    "result = ''.join(str(x) for x in l1)\n",
    "l1 = int(result)\n",
    "l2 = [5,6,7]\n",
    "result = ''.join(str(x) for x in l2)\n",
    "l2 = int(result)\n",
    "li = [int(i) for i in str(l1+l2)]\n",
    "result = ''.join(str(x) for x in (li[::-1]))\n",
    "print(int(result))"
   ]
  },
  {
   "cell_type": "code",
   "execution_count": null,
   "id": "157ec12c",
   "metadata": {},
   "outputs": [
    {
     "data": {
      "text/plain": [
       "[[1], [1], [1], [1], [1]]"
      ]
     },
     "execution_count": 37,
     "metadata": {},
     "output_type": "execute_result"
    }
   ],
   "source": [
    "li = [[]] * 5\n",
    "li[0].append(1)\n",
    "li\n"
   ]
  },
  {
   "cell_type": "code",
   "execution_count": null,
   "id": "3425820e",
   "metadata": {},
   "outputs": [],
   "source": []
  },
  {
   "cell_type": "code",
   "execution_count": null,
   "id": "92aa7aca",
   "metadata": {},
   "outputs": [],
   "source": []
  }
 ],
 "metadata": {
  "kernelspec": {
   "display_name": "practices",
   "language": "python",
   "name": "python3"
  },
  "language_info": {
   "codemirror_mode": {
    "name": "ipython",
    "version": 3
   },
   "file_extension": ".py",
   "mimetype": "text/x-python",
   "name": "python",
   "nbconvert_exporter": "python",
   "pygments_lexer": "ipython3",
   "version": "3.12.10"
  }
 },
 "nbformat": 4,
 "nbformat_minor": 5
}
